{
 "cells": [
  {
   "cell_type": "markdown",
   "id": "13f1e150",
   "metadata": {
    "toc": true
   },
   "source": [
    "<h1>Table of Contents<span class=\"tocSkip\"></span></h1>\n",
    "<div class=\"toc\"><ul class=\"toc-item\"><li><span><a href=\"#Project-Description\" data-toc-modified-id=\"Project-Description-0\">Project Description</a></span></li><li><span><a href=\"#1.-EDA\" data-toc-modified-id=\"1.-EDA-1\">1. EDA</a></span><ul class=\"toc-item\"><li><span><a href=\"#Distribution-of-Game-Rounds\" data-toc-modified-id=\"Distribution-of-Game-Rounds-1.1\">Distribution of Game Rounds</a></span></li></ul></li><li><span><a href=\"#2.-Exploring-Retention\" data-toc-modified-id=\"2.-Exploring-Retention-2\">2. Exploring Retention</a></span><ul class=\"toc-item\"><li><span><a href=\"#2.1.-1-day-retention-by-AB-group\" data-toc-modified-id=\"2.1.-1-day-retention-by-AB-group-2.1\">2.1. 1-day retention by AB-group</a></span><ul class=\"toc-item\"><li><ul class=\"toc-item\"><li><span><a href=\"#Overall-1-day-retention\" data-toc-modified-id=\"Overall-1-day-retention-2.1.0.1\">Overall 1-day retention</a></span></li><li><span><a href=\"#1-day-retention-by-AB-group\" data-toc-modified-id=\"1-day-retention-by-AB-group-2.1.0.2\">1-day retention by AB-group</a></span></li></ul></li><li><span><a href=\"#Bootstrapping\" data-toc-modified-id=\"Bootstrapping-2.1.1\">Bootstrapping</a></span><ul class=\"toc-item\"><li><span><a href=\"#Closer-Look-at-the-Difference\" data-toc-modified-id=\"Closer-Look-at-the-Difference-2.1.1.1\">Closer Look at the Difference</a></span></li><li><span><a href=\"#The-Probability-of-a-Difference\" data-toc-modified-id=\"The-Probability-of-a-Difference-2.1.1.2\">The Probability of a Difference</a></span></li></ul></li></ul></li><li><span><a href=\"#2.2.-7-day-retention-by-AB-group\" data-toc-modified-id=\"2.2.-7-day-retention-by-AB-group-2.2\">2.2. 7-day retention by AB-group</a></span><ul class=\"toc-item\"><li><span><a href=\"#Bootstrapping-the-7-Day-Retention-Difference\" data-toc-modified-id=\"Bootstrapping-the-7-Day-Retention-Difference-2.2.1\">Bootstrapping the 7-Day Retention Difference</a></span></li></ul></li></ul></li><li><span><a href=\"#The-Conclusion\" data-toc-modified-id=\"The-Conclusion-3\">The Conclusion</a></span></li></ul></div>"
   ]
  },
  {
   "cell_type": "markdown",
   "id": "f22ea383",
   "metadata": {},
   "source": [
    "# Project Description\n",
    "[Cookie Cats](https://apps.apple.com/us/app/cookie-cats-pop/id1159705605) is a popular mobile puzzle game developed by [Tactile Games](https://tactilegames.com). It's a classic \"connect three\" style puzzle game where the player must connect tiles of the same color in order to clear the board and win the level.\n",
    "\n",
    "As players progress through the game they will encounter gates that force them to wait some time before they can progress or make an in-app purchase. In this project, we will analyze the result of an A/B test where the first gate in Cookie Cats was moved **from level 30 to level 40**. In particular, we will analyze the impact on player retention."
   ]
  },
  {
   "cell_type": "code",
   "execution_count": 1,
   "id": "f887b1dc",
   "metadata": {},
   "outputs": [],
   "source": [
    "# importing libraries\n",
    "import pandas as pd\n",
    "import numpy as np\n",
    "from tqdm.auto import tqdm\n",
    "from scipy.stats import norm\n",
    "\n",
    "import matplotlib.pyplot as plt\n",
    "%matplotlib inline\n",
    "import seaborn as sns"
   ]
  },
  {
   "cell_type": "code",
   "execution_count": 2,
   "id": "9d4adeab",
   "metadata": {},
   "outputs": [
    {
     "data": {
      "text/html": [
       "<div>\n",
       "<style scoped>\n",
       "    .dataframe tbody tr th:only-of-type {\n",
       "        vertical-align: middle;\n",
       "    }\n",
       "\n",
       "    .dataframe tbody tr th {\n",
       "        vertical-align: top;\n",
       "    }\n",
       "\n",
       "    .dataframe thead th {\n",
       "        text-align: right;\n",
       "    }\n",
       "</style>\n",
       "<table border=\"1\" class=\"dataframe\">\n",
       "  <thead>\n",
       "    <tr style=\"text-align: right;\">\n",
       "      <th></th>\n",
       "      <th>userid</th>\n",
       "      <th>version</th>\n",
       "      <th>sum_gamerounds</th>\n",
       "      <th>retention_1</th>\n",
       "      <th>retention_7</th>\n",
       "    </tr>\n",
       "  </thead>\n",
       "  <tbody>\n",
       "    <tr>\n",
       "      <th>0</th>\n",
       "      <td>116</td>\n",
       "      <td>gate_30</td>\n",
       "      <td>3</td>\n",
       "      <td>False</td>\n",
       "      <td>False</td>\n",
       "    </tr>\n",
       "    <tr>\n",
       "      <th>1</th>\n",
       "      <td>337</td>\n",
       "      <td>gate_30</td>\n",
       "      <td>38</td>\n",
       "      <td>True</td>\n",
       "      <td>False</td>\n",
       "    </tr>\n",
       "    <tr>\n",
       "      <th>2</th>\n",
       "      <td>377</td>\n",
       "      <td>gate_40</td>\n",
       "      <td>165</td>\n",
       "      <td>True</td>\n",
       "      <td>False</td>\n",
       "    </tr>\n",
       "    <tr>\n",
       "      <th>3</th>\n",
       "      <td>483</td>\n",
       "      <td>gate_40</td>\n",
       "      <td>1</td>\n",
       "      <td>False</td>\n",
       "      <td>False</td>\n",
       "    </tr>\n",
       "    <tr>\n",
       "      <th>4</th>\n",
       "      <td>488</td>\n",
       "      <td>gate_40</td>\n",
       "      <td>179</td>\n",
       "      <td>True</td>\n",
       "      <td>True</td>\n",
       "    </tr>\n",
       "  </tbody>\n",
       "</table>\n",
       "</div>"
      ],
      "text/plain": [
       "   userid  version  sum_gamerounds  retention_1  retention_7\n",
       "0     116  gate_30               3        False        False\n",
       "1     337  gate_30              38         True        False\n",
       "2     377  gate_40             165         True        False\n",
       "3     483  gate_40               1        False        False\n",
       "4     488  gate_40             179         True         True"
      ]
     },
     "execution_count": 2,
     "metadata": {},
     "output_type": "execute_result"
    }
   ],
   "source": [
    "# importing dataset\n",
    "df = pd.read_csv(r\"C:\\Users\\eadub\\STUDY\\Statistics\\A-B-tests\\Datasets\\cookie_cats.csv\")\n",
    "df.head()"
   ]
  },
  {
   "cell_type": "code",
   "execution_count": 3,
   "id": "ef1a0f2a",
   "metadata": {},
   "outputs": [
    {
     "name": "stdout",
     "output_type": "stream",
     "text": [
      "Size of the dataset:\n",
      "(90189, 5)\n"
     ]
    }
   ],
   "source": [
    "print(\"Size of the dataset:\") \n",
    "print(df.shape)"
   ]
  },
  {
   "cell_type": "markdown",
   "id": "bd371216",
   "metadata": {},
   "source": [
    "The data we have is from 90,189 players that installed the game while the AB-test was running. The variables are:\n",
    "\n",
    "* *userid* - a unique number that identifies each player.\n",
    "* *version* - whether the player was put in the control group (gate_30 - a gate at level 30) or the group with the moved gate (gate_40 - a gate at level 40).\n",
    "* *sum_gamerounds* - the number of game rounds played by the player during the first 14 days after install.\n",
    "* *retention_1* - did the player come back and play 1 day after installing?\n",
    "* *retention_7* - did the player come back and play 7 days after installing?"
   ]
  },
  {
   "cell_type": "markdown",
   "id": "847a88e4",
   "metadata": {},
   "source": [
    "# 1. EDA"
   ]
  },
  {
   "cell_type": "markdown",
   "id": "941b8e2d",
   "metadata": {},
   "source": [
    "When a player installed the game, he or she was randomly assigned to either gate_30 or gate_40. As a sanity check, let's see if there are roughly the same number of players in each AB group."
   ]
  },
  {
   "cell_type": "code",
   "execution_count": 4,
   "id": "3ff4bbef",
   "metadata": {},
   "outputs": [
    {
     "name": "stdout",
     "output_type": "stream",
     "text": [
      "gate_40    45489\n",
      "gate_30    44700\n",
      "Name: version, dtype: int64\n",
      "\n",
      "gate_40    0.504374\n",
      "gate_30    0.495626\n",
      "Name: version, dtype: float64\n"
     ]
    }
   ],
   "source": [
    "print(df['version'].value_counts())\n",
    "print()\n",
    "print(df['version'].value_counts(normalize=True))"
   ]
  },
  {
   "cell_type": "markdown",
   "id": "8ecf03ca",
   "metadata": {},
   "source": [
    "There is roughly the same number of players in each group."
   ]
  },
  {
   "cell_type": "markdown",
   "id": "f03031bd",
   "metadata": {},
   "source": [
    "Let's plot the distribution of the number of game rounds players played during their first week playing the game."
   ]
  },
  {
   "cell_type": "markdown",
   "id": "0636629d",
   "metadata": {},
   "source": [
    "But first, let's check 'sum_gamerounds' for outliers."
   ]
  },
  {
   "cell_type": "code",
   "execution_count": 5,
   "id": "27f128a3",
   "metadata": {},
   "outputs": [
    {
     "data": {
      "text/plain": [
       "count    90189.000000\n",
       "mean        51.872457\n",
       "std        195.050858\n",
       "min          0.000000\n",
       "25%          5.000000\n",
       "50%         16.000000\n",
       "75%         51.000000\n",
       "max      49854.000000\n",
       "Name: sum_gamerounds, dtype: float64"
      ]
     },
     "execution_count": 5,
     "metadata": {},
     "output_type": "execute_result"
    }
   ],
   "source": [
    "df['sum_gamerounds'].describe()"
   ]
  },
  {
   "cell_type": "code",
   "execution_count": 6,
   "id": "f7c356c1",
   "metadata": {},
   "outputs": [
    {
     "data": {
      "text/plain": [
       "57702    49854\n",
       "7912      2961\n",
       "29417     2640\n",
       "43671     2438\n",
       "48188     2294\n",
       "46344     2251\n",
       "87007     2156\n",
       "36933     2124\n",
       "88328     2063\n",
       "6536      2015\n",
       "Name: sum_gamerounds, dtype: int64"
      ]
     },
     "execution_count": 6,
     "metadata": {},
     "output_type": "execute_result"
    }
   ],
   "source": [
    "df['sum_gamerounds'].nlargest(10)"
   ]
  },
  {
   "cell_type": "markdown",
   "id": "92675fe4",
   "metadata": {},
   "source": [
    "Looks like *49 854* played game rounds is an outlier. I remove it from the df."
   ]
  },
  {
   "cell_type": "code",
   "execution_count": 7,
   "id": "e6c6d7ca",
   "metadata": {},
   "outputs": [
    {
     "data": {
      "text/plain": [
       "count    90188.000000\n",
       "mean        51.320253\n",
       "std        102.682719\n",
       "min          0.000000\n",
       "25%          5.000000\n",
       "50%         16.000000\n",
       "75%         51.000000\n",
       "max       2961.000000\n",
       "Name: sum_gamerounds, dtype: float64"
      ]
     },
     "execution_count": 7,
     "metadata": {},
     "output_type": "execute_result"
    }
   ],
   "source": [
    "df = df[df['sum_gamerounds']!=49854]\n",
    "df['sum_gamerounds'].describe()"
   ]
  },
  {
   "cell_type": "markdown",
   "id": "2498a6a4",
   "metadata": {},
   "source": [
    "## Distribution of Game Rounds"
   ]
  },
  {
   "cell_type": "code",
   "execution_count": 8,
   "id": "7baf73d2",
   "metadata": {},
   "outputs": [],
   "source": [
    "# Set the global figure size\n",
    "plt.rcParams['figure.figsize'] = [10, 6]  # Set the figure size (width, height)"
   ]
  },
  {
   "cell_type": "code",
   "execution_count": 9,
   "id": "13c978b8",
   "metadata": {},
   "outputs": [
    {
     "data": {
      "image/png": "[encoded data removed]",
      "text/plain": [
       "<Figure size 720x432 with 1 Axes>"
      ]
     },
     "metadata": {
      "needs_background": "light"
     },
     "output_type": "display_data"
    }
   ],
   "source": [
    "# The distribution of game rounds - first 100 rows\n",
    "plot_df = df.groupby('sum_gamerounds').agg({'userid':'count'}).reset_index().rename(columns={'userid':'count'})\n",
    "# plot_df.head(100)\n",
    "\n",
    "ax = sns.barplot(data=plot_df.head(100), x='sum_gamerounds', y='count')\n",
    "\n",
    "xticks = range(0, len(plot_df.head(100)), 2)\n",
    "ax.set_xticks(xticks)\n",
    "ax.set_xticklabels(xticks, rotation=90)\n",
    "\n",
    "ax.set_title(\"Distribution of Game Rounds\", size=16)\n",
    "ax.set_xlabel(\"Game Rounds\", size=14)\n",
    "ax.set_ylabel(\"Count\", size=14)\n",
    "\n",
    "plt.show()"
   ]
  },
  {
   "cell_type": "markdown",
   "id": "6dc27150",
   "metadata": {},
   "source": [
    "Some people play ***0*** rounds after installation. The majority of players play *1-2* rounds."
   ]
  },
  {
   "cell_type": "markdown",
   "id": "3072e581",
   "metadata": {},
   "source": [
    "# 2. Exploring Retention"
   ]
  },
  {
   "cell_type": "markdown",
   "id": "daf578ec",
   "metadata": {},
   "source": [
    "## 2.1. 1-day retention by AB-group"
   ]
  },
  {
   "cell_type": "markdown",
   "id": "0dd82822",
   "metadata": {},
   "source": [
    "#### Overall 1-day retention"
   ]
  },
  {
   "cell_type": "markdown",
   "id": "c305d1ed",
   "metadata": {},
   "source": [
    "What we want is for players to like the game and to get hooked. A common metric in the video gaming industry for how fun and engaging a game is 1-day retention: The percentage of players that comes back and plays the game one day after they have installed it. The higher 1-day retention is, the easier it is to retain players and build a large player base.\n",
    "\n",
    "As a first step, let's look at what 1-day retention is overall."
   ]
  },
  {
   "cell_type": "code",
   "execution_count": 10,
   "id": "151f8a30",
   "metadata": {},
   "outputs": [
    {
     "data": {
      "text/plain": [
       "False    55.48\n",
       "True     44.52\n",
       "Name: retention_1, dtype: float64"
      ]
     },
     "execution_count": 10,
     "metadata": {},
     "output_type": "execute_result"
    }
   ],
   "source": [
    "# The % of users that came back the day after they installed\n",
    "df['retention_1'].value_counts(normalize=True).mul(100).round(2)"
   ]
  },
  {
   "cell_type": "code",
   "execution_count": 11,
   "id": "6f62ab8d",
   "metadata": {},
   "outputs": [
    {
     "data": {
      "text/plain": [
       "44.5"
      ]
     },
     "execution_count": 11,
     "metadata": {},
     "output_type": "execute_result"
    }
   ],
   "source": [
    "df['retention_1'].mean().round(3)*100"
   ]
  },
  {
   "cell_type": "markdown",
   "id": "aca0b321",
   "metadata": {},
   "source": [
    "About 45% of the players come back one day after installing the game."
   ]
  },
  {
   "cell_type": "markdown",
   "id": "e681d26d",
   "metadata": {},
   "source": [
    "#### 1-day retention by AB-group"
   ]
  },
  {
   "cell_type": "code",
   "execution_count": 12,
   "id": "c8568ad5",
   "metadata": {},
   "outputs": [
    {
     "data": {
      "text/plain": [
       "version\n",
       "gate_30    44.82\n",
       "gate_40    44.23\n",
       "Name: retention_1, dtype: float64"
      ]
     },
     "execution_count": 12,
     "metadata": {},
     "output_type": "execute_result"
    }
   ],
   "source": [
    "# Calculating 1-day retention for each AB-group\n",
    "df.groupby('version')['retention_1'].mean().mul(100).round(2)"
   ]
  },
  {
   "cell_type": "markdown",
   "id": "71a8170b",
   "metadata": {},
   "source": [
    "There was a slight decrease in 1-day retention after the gate was moved to level 40 - from 44.82% to 44.23%. But even a small change in retention can have a large impact on business performance."
   ]
  },
  {
   "cell_type": "markdown",
   "id": "dd42319e",
   "metadata": {},
   "source": [
    "### Bootstrapping"
   ]
  },
  {
   "cell_type": "markdown",
   "id": "f59dbc72",
   "metadata": {},
   "source": [
    "Now we need to estimate if gate-40 will be worse in the future. We will use bootstrapping for this: we will repeatedly re-sample our dataset (with replacement) and calculate 1-day retention for those samples. The variation in 1-day retention will give us an indication of how uncertain the retention numbers are."
   ]
  },
  {
   "cell_type": "code",
   "execution_count": 13,
   "id": "a454fb8a",
   "metadata": {},
   "outputs": [
    {
     "data": {
      "application/vnd.jupyter.widget-view+json": {
       "model_id": "60f3760aeceb4fce8f4a67486813e75a",
       "version_major": 2,
       "version_minor": 0
      },
      "text/plain": [
       "  0%|          | 0/10000 [00:00<?, ?it/s]"
      ]
     },
     "metadata": {},
     "output_type": "display_data"
    }
   ],
   "source": [
    "# Creating an list with bootstrapped means for each AB-group\n",
    "bs_1d = []\n",
    "for i in tqdm(range(10000)):\n",
    "    bs_mean = df[['version', 'retention_1']].sample(frac=1, replace=True).groupby('version')['retention_1'].mean()\n",
    "    bs_1d.append(bs_mean)"
   ]
  },
  {
   "cell_type": "code",
   "execution_count": 14,
   "id": "60c929d7",
   "metadata": {},
   "outputs": [],
   "source": [
    "# Transforming the list to a DataFrame\n",
    "bs_1d = pd.DataFrame(bs_1d)"
   ]
  },
  {
   "cell_type": "code",
   "execution_count": 15,
   "id": "0cd6111f",
   "metadata": {
    "scrolled": false
   },
   "outputs": [
    {
     "data": {
      "image/png": "[encoded data removed]",
      "text/plain": [
       "<Figure size 720x432 with 1 Axes>"
      ]
     },
     "metadata": {
      "needs_background": "light"
     },
     "output_type": "display_data"
    }
   ],
   "source": [
    "# A Kernel Density Estimate plot of the bootstrap distributions\n",
    "ax = sns.kdeplot(data=bs_1d)\n",
    "\n",
    "ax.set_title(\"PDF of Day-1 Retention by Version\", size=16)\n",
    "ax.set_xlabel(\"Day-1 Retention\", size=14)\n",
    "ax.set_ylabel(\"Density\", size=14)\n",
    "plt.show()"
   ]
  },
  {
   "cell_type": "markdown",
   "id": "b5d99b17",
   "metadata": {},
   "source": [
    "We can see that for 10000 similar samples there still will be the difference in 1-day retention between the two AB-groups. Though, it doesn't look significant."
   ]
  },
  {
   "cell_type": "markdown",
   "id": "79d975ef",
   "metadata": {},
   "source": [
    "#### Closer Look at the Difference"
   ]
  },
  {
   "cell_type": "code",
   "execution_count": 16,
   "id": "49254fdd",
   "metadata": {
    "scrolled": true
   },
   "outputs": [
    {
     "data": {
      "text/html": [
       "<div>\n",
       "<style scoped>\n",
       "    .dataframe tbody tr th:only-of-type {\n",
       "        vertical-align: middle;\n",
       "    }\n",
       "\n",
       "    .dataframe tbody tr th {\n",
       "        vertical-align: top;\n",
       "    }\n",
       "\n",
       "    .dataframe thead th {\n",
       "        text-align: right;\n",
       "    }\n",
       "</style>\n",
       "<table border=\"1\" class=\"dataframe\">\n",
       "  <thead>\n",
       "    <tr style=\"text-align: right;\">\n",
       "      <th>version</th>\n",
       "      <th>gate_30</th>\n",
       "      <th>gate_40</th>\n",
       "      <th>diff</th>\n",
       "    </tr>\n",
       "  </thead>\n",
       "  <tbody>\n",
       "    <tr>\n",
       "      <th>retention_1</th>\n",
       "      <td>0.445659</td>\n",
       "      <td>0.437804</td>\n",
       "      <td>1.794180</td>\n",
       "    </tr>\n",
       "    <tr>\n",
       "      <th>retention_1</th>\n",
       "      <td>0.448500</td>\n",
       "      <td>0.438357</td>\n",
       "      <td>2.313874</td>\n",
       "    </tr>\n",
       "    <tr>\n",
       "      <th>retention_1</th>\n",
       "      <td>0.449860</td>\n",
       "      <td>0.442334</td>\n",
       "      <td>1.701420</td>\n",
       "    </tr>\n",
       "    <tr>\n",
       "      <th>retention_1</th>\n",
       "      <td>0.447420</td>\n",
       "      <td>0.440535</td>\n",
       "      <td>1.562750</td>\n",
       "    </tr>\n",
       "    <tr>\n",
       "      <th>retention_1</th>\n",
       "      <td>0.449347</td>\n",
       "      <td>0.441125</td>\n",
       "      <td>1.864003</td>\n",
       "    </tr>\n",
       "  </tbody>\n",
       "</table>\n",
       "</div>"
      ],
      "text/plain": [
       "version       gate_30   gate_40      diff\n",
       "retention_1  0.445659  0.437804  1.794180\n",
       "retention_1  0.448500  0.438357  2.313874\n",
       "retention_1  0.449860  0.442334  1.701420\n",
       "retention_1  0.447420  0.440535  1.562750\n",
       "retention_1  0.449347  0.441125  1.864003"
      ]
     },
     "execution_count": 16,
     "metadata": {},
     "output_type": "execute_result"
    }
   ],
   "source": [
    "# Adding a column with the % difference between the two AB-groups\n",
    "bs_1d['diff'] = (\n",
    "                (bs_1d['gate_30'] - bs_1d['gate_40']) / bs_1d['gate_40']\n",
    "                    * 100)\n",
    "bs_1d.head()"
   ]
  },
  {
   "cell_type": "code",
   "execution_count": 17,
   "id": "c95d35b5",
   "metadata": {
    "scrolled": false
   },
   "outputs": [
    {
     "data": {
      "image/png": "[encoded data removed]",
      "text/plain": [
       "<Figure size 720x432 with 1 Axes>"
      ]
     },
     "metadata": {
      "needs_background": "light"
     },
     "output_type": "display_data"
    },
    {
     "name": "stdout",
     "output_type": "stream",
     "text": [
      "Confidence interval:\n",
      "0.025   -0.125997\n",
      "0.975    2.868107\n",
      "Name: diff, dtype: float64\n"
     ]
    }
   ],
   "source": [
    "# Confidence level\n",
    "conf_level = 0.95\n",
    "\n",
    "# Confidence interval\n",
    "left_qntl = (1 - conf_level) / 2\n",
    "right_qntl = 1 - ((1 - conf_level) / 2)\n",
    "quants = bs_1d['diff'].quantile([left_qntl, right_qntl])\n",
    "\n",
    "# Visualization of the bootstrap % difference\n",
    "ax = sns.histplot(bs_1d['diff'], bins=50)\n",
    "\n",
    "ax.axvline(quants[left_qntl], color='black', linestyle='--')\n",
    "ax.axvline(quants[right_qntl], color='black', linestyle='--')\n",
    "mean_diff = bs_1d['diff'].mean()\n",
    "ax.axvline(x=mean_diff, color='red', linestyle='--', label=f'Mean: {mean_diff:.2f}')\n",
    "# Color values below left quantile and above right quantile\n",
    "ax.fill_between([ax.get_xlim()[0], quants.loc[left_qntl]], 0, ax.get_ylim()[1]/8, alpha=0.3, color='red')\n",
    "ax.fill_between([quants.loc[right_qntl], ax.get_xlim()[1]], 0, ax.get_ylim()[1]/8, alpha=0.3, color='red')\n",
    "\n",
    "ax.legend()\n",
    "ax.set_title('Histogram of Bootstrapped Difference', size=16)\n",
    "ax.set_xlabel('Day-1 Retention Difference, %', size=14)\n",
    "ax.set_ylabel('Frequency', size=14)\n",
    "plt.show()\n",
    "\n",
    "print(\"Confidence interval:\") \n",
    "print(quants)"
   ]
  },
  {
   "cell_type": "markdown",
   "id": "8fe94a57",
   "metadata": {},
   "source": [
    "The most likely difference is between 1% and 2%, and the mean difference equals 1.35% . The majority of the distribution (~97.5%) is above 0, therefore gate-30 has higher 1-day retention more often."
   ]
  },
  {
   "cell_type": "markdown",
   "id": "4dfdd343",
   "metadata": {},
   "source": [
    "#### The Probability of a Difference"
   ]
  },
  {
   "cell_type": "code",
   "execution_count": 18,
   "id": "f7f2f14e",
   "metadata": {},
   "outputs": [
    {
     "name": "stdout",
     "output_type": "stream",
     "text": [
      "Probability that a gate at level 30 gives higher 1-day retention:\n",
      "96.4%\n"
     ]
    }
   ],
   "source": [
    "# Let's calculate that the probability that the difference is above 0%\n",
    "prob = (bs_1d['diff']>0).mean()\n",
    "print(\"Probability that a gate at level 30 gives higher 1-day retention:\")\n",
    "print('{:.1%}'.format(prob))"
   ]
  },
  {
   "cell_type": "markdown",
   "id": "2e2fc0b3",
   "metadata": {},
   "source": [
    "The bootstrap analysis tells us that there is a **high probability** that 1-day retention is **better** when the gate is at **level 30**. However, since players have only been playing the game for one day, it is likely that most players haven't reached level 30 yet. That is, many players won't have been affected by the gate, even if it's as early as level 30."
   ]
  },
  {
   "cell_type": "markdown",
   "id": "b9effffb",
   "metadata": {},
   "source": [
    "## 2.2. 7-day retention by AB-group"
   ]
  },
  {
   "cell_type": "markdown",
   "id": "9f75b5a4",
   "metadata": {},
   "source": [
    "After having played for a week, more players should have reached level 40, and therefore it makes sense to also look at 7-day retention. That is: What percentage of the people that installed the game also showed up a week later to play the game again.\n",
    "\n",
    "Let's start by calculating 7-day retention for the two AB-groups."
   ]
  },
  {
   "cell_type": "code",
   "execution_count": 19,
   "id": "6fb3f8f1",
   "metadata": {},
   "outputs": [
    {
     "data": {
      "text/plain": [
       "version\n",
       "gate_30    19.02\n",
       "gate_40    18.20\n",
       "Name: retention_7, dtype: float64"
      ]
     },
     "execution_count": 19,
     "metadata": {},
     "output_type": "execute_result"
    }
   ],
   "source": [
    "df.groupby('version')['retention_7'].mean().mul(100).round(2)"
   ]
  },
  {
   "cell_type": "markdown",
   "id": "65bb607a",
   "metadata": {},
   "source": [
    "Like with 1-day retention, we see that 7-day retention is slightly lower (18.2%) when the gate is at level 40 than when the gate is at level 30 (19.0%). This difference is also larger than for 1-day retention, presumably because more players have had time to hit the first gate. We also see that the overall 7-day retention is lower than the overall 1-day retention; fewer people play a game a week after installing than a day after installing."
   ]
  },
  {
   "cell_type": "markdown",
   "id": "94eb804b",
   "metadata": {},
   "source": [
    "### Bootstrapping the 7-Day Retention Difference"
   ]
  },
  {
   "cell_type": "markdown",
   "id": "e5db0ffc",
   "metadata": {},
   "source": [
    "Let's use bootstrap analysis to figure out how certain we should be of the difference between the AB-groups."
   ]
  },
  {
   "cell_type": "code",
   "execution_count": 20,
   "id": "8adfb0c1",
   "metadata": {},
   "outputs": [
    {
     "data": {
      "application/vnd.jupyter.widget-view+json": {
       "model_id": "8bc54e05b76c43b78fa4e4e667ae315e",
       "version_major": 2,
       "version_minor": 0
      },
      "text/plain": [
       "  0%|          | 0/10000 [00:00<?, ?it/s]"
      ]
     },
     "metadata": {},
     "output_type": "display_data"
    }
   ],
   "source": [
    "bs_7d = []\n",
    "for i in tqdm(range(10000)):\n",
    "    bs_mean = df.sample(frac=1, replace=True).groupby('version')['retention_7'].mean()\n",
    "    bs_7d.append(bs_mean)"
   ]
  },
  {
   "cell_type": "code",
   "execution_count": 21,
   "id": "b189edc1",
   "metadata": {},
   "outputs": [],
   "source": [
    "# Transforming the list to a DataFrame\n",
    "bs_7d = pd.DataFrame(bs_7d)"
   ]
  },
  {
   "cell_type": "code",
   "execution_count": 22,
   "id": "ddfe093f",
   "metadata": {},
   "outputs": [
    {
     "data": {
      "image/png": "[encoded data removed]",
      "text/plain": [
       "<Figure size 720x432 with 1 Axes>"
      ]
     },
     "metadata": {
      "needs_background": "light"
     },
     "output_type": "display_data"
    }
   ],
   "source": [
    "# A Kernel Density Estimate plot of the bootstrap distributions\n",
    "ax = sns.kdeplot(data=bs_7d)\n",
    "\n",
    "ax.set_title(\"PDF of Day-7 Retention by Version\", size=16)\n",
    "ax.set_xlabel(\"Day-7 Retention\", size=14)\n",
    "ax.set_ylabel(\"Density\", size=14)\n",
    "plt.show()"
   ]
  },
  {
   "cell_type": "code",
   "execution_count": 23,
   "id": "8e52388f",
   "metadata": {},
   "outputs": [],
   "source": [
    "# Adding a column with the % difference between the two AB-groups\n",
    "bs_7d['diff'] = (\n",
    "                (bs_7d['gate_30'] - bs_7d['gate_40']) / bs_7d['gate_40']\n",
    "                    * 100)"
   ]
  },
  {
   "cell_type": "code",
   "execution_count": 24,
   "id": "fdcb3142",
   "metadata": {},
   "outputs": [
    {
     "data": {
      "image/png": "[encoded data removed]",
      "text/plain": [
       "<Figure size 720x432 with 1 Axes>"
      ]
     },
     "metadata": {
      "needs_background": "light"
     },
     "output_type": "display_data"
    },
    {
     "name": "stdout",
     "output_type": "stream",
     "text": [
      "Confidence interval:\n",
      "0.025    1.703203\n",
      "0.975    7.397553\n",
      "Name: diff, dtype: float64\n"
     ]
    }
   ],
   "source": [
    "# Confidence level\n",
    "conf_level = 0.95\n",
    "\n",
    "# Confidence interval\n",
    "left_qntl = (1 - conf_level) / 2\n",
    "right_qntl = 1 - ((1 - conf_level) / 2)\n",
    "quants = bs_7d['diff'].quantile([left_qntl, right_qntl])\n",
    "\n",
    "# Visualization of the bootstrap % difference\n",
    "ax = sns.histplot(bs_7d['diff'], bins=50)\n",
    "\n",
    "ax.axvline(quants[left_qntl], color='black', linestyle='--')\n",
    "ax.axvline(quants[right_qntl], color='black', linestyle='--')\n",
    "mean_diff = bs_7d['diff'].mean()\n",
    "ax.axvline(x=mean_diff, color='red', linestyle='--', label=f'Mean: {mean_diff:.2f}')\n",
    "# Color values below left quantile and above right quantile\n",
    "ax.fill_between([ax.get_xlim()[0], quants.loc[left_qntl]], 0, ax.get_ylim()[1]/8, alpha=0.3, color='red')\n",
    "ax.fill_between([quants.loc[right_qntl], ax.get_xlim()[1]], 0, ax.get_ylim()[1]/8, alpha=0.3, color='red')\n",
    "\n",
    "ax.legend()\n",
    "ax.set_title('Histogram of Bootstrapped Difference', size=16)\n",
    "ax.set_xlabel('Day-7 Retention Difference, %', size=14)\n",
    "ax.set_ylabel('Frequency', size=14)\n",
    "plt.show()\n",
    "\n",
    "print(\"Confidence interval:\") \n",
    "print(quants)"
   ]
  },
  {
   "cell_type": "code",
   "execution_count": 25,
   "id": "d604251d",
   "metadata": {},
   "outputs": [
    {
     "name": "stdout",
     "output_type": "stream",
     "text": [
      "Probability that a gate at level 30 gives higher 7-day retention:\n",
      "100.0%\n"
     ]
    }
   ],
   "source": [
    "# Calculating the probability that 7-day retention is greater when the gate is at level 30\n",
    "prob = (bs_7d['diff']>0).mean()\n",
    "print(\"Probability that a gate at level 30 gives higher 7-day retention:\")\n",
    "print('{:.1%}'.format(prob))"
   ]
  },
  {
   "cell_type": "markdown",
   "id": "3b9f9556",
   "metadata": {},
   "source": [
    "The bootstrap result tells us that there is strong evidence that 7-day retention is higher when the gate is at level 30 than when it is at level 40."
   ]
  },
  {
   "cell_type": "markdown",
   "id": "e10df7d7",
   "metadata": {},
   "source": [
    "# The Conclusion"
   ]
  },
  {
   "cell_type": "markdown",
   "id": "d2997860",
   "metadata": {},
   "source": [
    "The conclusion is: If we want to keep retention high — both 1-day and 7-day retention — we should **not** move the gate from level 30 to level 40. There are, of course, other metrics we could look at, like the number of game rounds played or how much in-game purchases are made by the two AB-groups. But retention is one of the most important metrics. If we don't retain our player base, it doesn't matter how much money they spend in-game."
   ]
  },
  {
   "cell_type": "markdown",
   "id": "40b87db7",
   "metadata": {},
   "source": [
    "So, why is retention higher when the gate is positioned earlier? One could expect the opposite: The later the obstacle, the longer people are going to engage with the game. But this is not what the data tells us. The theory of hedonic adaptation can give one explanation for this. In short, *hedonic adaptation* is the tendency for people to get less and less enjoyment out of a fun activity over time if that activity is undertaken continuously. By forcing players to take a break when they reach a gate, their enjoyment of the game is prolonged. But when the gate is moved to level 40, fewer players make it far enough, and they are more likely to quit the game because they simply got bored of it."
   ]
  }
 ],
 "metadata": {
  "celltoolbar": "Отсутствует",
  "kernelspec": {
   "display_name": "Python 3 (ipykernel)",
   "language": "python",
   "name": "python3"
  },
  "language_info": {
   "codemirror_mode": {
    "name": "ipython",
    "version": 3
   },
   "file_extension": ".py",
   "mimetype": "text/x-python",
   "name": "python",
   "nbconvert_exporter": "python",
   "pygments_lexer": "ipython3",
   "version": "3.9.12"
  },
  "toc": {
   "base_numbering": "",
   "nav_menu": {},
   "number_sections": false,
   "sideBar": true,
   "skip_h1_title": false,
   "title_cell": "Table of Contents",
   "title_sidebar": "Contents",
   "toc_cell": true,
   "toc_position": {
    "height": "calc(100% - 180px)",
    "left": "10px",
    "top": "150px",
    "width": "246.6px"
   },
   "toc_section_display": true,
   "toc_window_display": false
  }
 },
 "nbformat": 4,
 "nbformat_minor": 5
}
