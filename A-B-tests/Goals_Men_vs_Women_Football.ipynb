{
 "cells": [
  {
   "cell_type": "markdown",
   "id": "b8f1052f",
   "metadata": {
    "toc": true
   },
   "source": [
    "<h1>Table of Contents<span class=\"tocSkip\"></span></h1>\n",
    "<div class=\"toc\"><ul class=\"toc-item\"><li><span><a href=\"#Number-of-Goals:-Women's-vs-Men's-Football\" data-toc-modified-id=\"Number-of-Goals:-Women's-vs-Men's-Football-1\">Number of Goals: Women's vs Men's Football</a></span></li><li><span><a href=\"#Project-Description\" data-toc-modified-id=\"Project-Description-2\">Project Description</a></span></li><li><span><a href=\"#1.-EDA\" data-toc-modified-id=\"1.-EDA-3\">1. EDA</a></span><ul class=\"toc-item\"><li><span><a href=\"#Filtering-the-Data\" data-toc-modified-id=\"Filtering-the-Data-3.1\">Filtering the Data</a></span></li><li><span><a href=\"#Some-Exploration\" data-toc-modified-id=\"Some-Exploration-3.2\">Some Exploration</a></span></li></ul></li><li><span><a href=\"#2.-Choosing-the-Correct-Hypothesis-Test\" data-toc-modified-id=\"2.-Choosing-the-Correct-Hypothesis-Test-4\">2. Choosing the Correct Hypothesis Test</a></span><ul class=\"toc-item\"><li><span><a href=\"#Check-for-Normality\" data-toc-modified-id=\"Check-for-Normality-4.1\">Check for Normality</a></span></li><li><span><a href=\"#Check-for-Homogenity-of-Variances\" data-toc-modified-id=\"Check-for-Homogenity-of-Variances-4.2\">Check for Homogenity of Variances</a></span></li></ul></li><li><span><a href=\"#3.-Performing-the-Hypothesis-Test\" data-toc-modified-id=\"3.-Performing-the-Hypothesis-Test-5\">3. Performing the Hypothesis Test</a></span></li><li><span><a href=\"#4.-Conclusions\" data-toc-modified-id=\"4.-Conclusions-6\">4. Conclusions</a></span></li></ul></div>"
   ]
  },
  {
   "cell_type": "markdown",
   "id": "3aebc809",
   "metadata": {},
   "source": [
    "# Number of Goals: Women's vs Men's Football"
   ]
  },
  {
   "cell_type": "markdown",
   "id": "63329ed8",
   "metadata": {},
   "source": [
    "# Project Description"
   ]
  },
  {
   "cell_type": "markdown",
   "id": "9080c59a",
   "metadata": {},
   "source": [
    "The object of this research is the amount of goals scored in women's vs. men's football. I have a gut instinct that more goals are scored in women's international football matches than men's. To be sure, I need to perform a valid statistical hypothesis test.\n",
    "\n",
    "We have two datasets containing the results of every official men's and women's international football match since the 19th century, which you scraped from a reliable online source. This data is stored in two CSV files: *women_results.csv* and *men_results.csv*.\n",
    "\n",
    "Since the sport has changed a lot over the years, and performances likely vary a lot depending on the tournament, we'll limit the data used in the analysis to only Official FIFA World Cup matches (not including qualifiers) since 2002-01-01.\n",
    "\n",
    "So, the question we are trying to determine the answer to is:\n",
    "\n",
    "> Are more goals scored in women's international soccer matches than men's?\n",
    "\n",
    "We assume a **10% significance level**, and use the following null and alternative hypotheses:\n",
    "\n",
    "$H_0$ : The mean number of goals scored in women's international soccer matches is the same as men's.\n",
    "\n",
    "$H_A$ : The mean number of goals scored in women's international soccer matches is greater than men's."
   ]
  },
  {
   "cell_type": "code",
   "execution_count": 25,
   "id": "535e9eec",
   "metadata": {},
   "outputs": [],
   "source": [
    "# importing libraries\n",
    "import pandas as pd\n",
    "\n",
    "from scipy.stats import shapiro\n",
    "from scipy.stats import kstest, norm\n",
    "from scipy.stats import levene\n",
    "import statsmodels.api as sm\n",
    "from scipy.stats import mannwhitneyu\n",
    "\n",
    "import matplotlib.pyplot as plt\n",
    "%matplotlib inline\n",
    "import seaborn as sns\n",
    "\n",
    "# Set the global figure size\n",
    "plt.rcParams['figure.figsize'] = [10, 6]"
   ]
  },
  {
   "cell_type": "code",
   "execution_count": 2,
   "id": "972fedd8",
   "metadata": {},
   "outputs": [],
   "source": [
    "# importing datasets\n",
    "men = pd.read_csv(r\"C:\\Users\\eadub\\STUDY\\Statistics\\A-B-tests\\Datasets\\men_results.csv\", index_col=0)\n",
    "women = pd.read_csv(r\"C:\\Users\\eadub\\STUDY\\Statistics\\A-B-tests\\Datasets\\women_results.csv\", index_col=0)"
   ]
  },
  {
   "cell_type": "code",
   "execution_count": 3,
   "id": "3af09f6a",
   "metadata": {},
   "outputs": [
    {
     "data": {
      "text/html": [
       "<div>\n",
       "<style scoped>\n",
       "    .dataframe tbody tr th:only-of-type {\n",
       "        vertical-align: middle;\n",
       "    }\n",
       "\n",
       "    .dataframe tbody tr th {\n",
       "        vertical-align: top;\n",
       "    }\n",
       "\n",
       "    .dataframe thead th {\n",
       "        text-align: right;\n",
       "    }\n",
       "</style>\n",
       "<table border=\"1\" class=\"dataframe\">\n",
       "  <thead>\n",
       "    <tr style=\"text-align: right;\">\n",
       "      <th></th>\n",
       "      <th>date</th>\n",
       "      <th>home_team</th>\n",
       "      <th>away_team</th>\n",
       "      <th>home_score</th>\n",
       "      <th>away_score</th>\n",
       "      <th>tournament</th>\n",
       "    </tr>\n",
       "  </thead>\n",
       "  <tbody>\n",
       "    <tr>\n",
       "      <th>0</th>\n",
       "      <td>1872-11-30</td>\n",
       "      <td>Scotland</td>\n",
       "      <td>England</td>\n",
       "      <td>0</td>\n",
       "      <td>0</td>\n",
       "      <td>Friendly</td>\n",
       "    </tr>\n",
       "    <tr>\n",
       "      <th>1</th>\n",
       "      <td>1873-03-08</td>\n",
       "      <td>England</td>\n",
       "      <td>Scotland</td>\n",
       "      <td>4</td>\n",
       "      <td>2</td>\n",
       "      <td>Friendly</td>\n",
       "    </tr>\n",
       "    <tr>\n",
       "      <th>2</th>\n",
       "      <td>1874-03-07</td>\n",
       "      <td>Scotland</td>\n",
       "      <td>England</td>\n",
       "      <td>2</td>\n",
       "      <td>1</td>\n",
       "      <td>Friendly</td>\n",
       "    </tr>\n",
       "    <tr>\n",
       "      <th>3</th>\n",
       "      <td>1875-03-06</td>\n",
       "      <td>England</td>\n",
       "      <td>Scotland</td>\n",
       "      <td>2</td>\n",
       "      <td>2</td>\n",
       "      <td>Friendly</td>\n",
       "    </tr>\n",
       "    <tr>\n",
       "      <th>4</th>\n",
       "      <td>1876-03-04</td>\n",
       "      <td>Scotland</td>\n",
       "      <td>England</td>\n",
       "      <td>3</td>\n",
       "      <td>0</td>\n",
       "      <td>Friendly</td>\n",
       "    </tr>\n",
       "  </tbody>\n",
       "</table>\n",
       "</div>"
      ],
      "text/plain": [
       "         date home_team away_team  home_score  away_score tournament\n",
       "0  1872-11-30  Scotland   England           0           0   Friendly\n",
       "1  1873-03-08   England  Scotland           4           2   Friendly\n",
       "2  1874-03-07  Scotland   England           2           1   Friendly\n",
       "3  1875-03-06   England  Scotland           2           2   Friendly\n",
       "4  1876-03-04  Scotland   England           3           0   Friendly"
      ]
     },
     "execution_count": 3,
     "metadata": {},
     "output_type": "execute_result"
    }
   ],
   "source": [
    "men.head()"
   ]
  },
  {
   "cell_type": "code",
   "execution_count": 4,
   "id": "fcbd901f",
   "metadata": {},
   "outputs": [
    {
     "data": {
      "text/html": [
       "<div>\n",
       "<style scoped>\n",
       "    .dataframe tbody tr th:only-of-type {\n",
       "        vertical-align: middle;\n",
       "    }\n",
       "\n",
       "    .dataframe tbody tr th {\n",
       "        vertical-align: top;\n",
       "    }\n",
       "\n",
       "    .dataframe thead th {\n",
       "        text-align: right;\n",
       "    }\n",
       "</style>\n",
       "<table border=\"1\" class=\"dataframe\">\n",
       "  <thead>\n",
       "    <tr style=\"text-align: right;\">\n",
       "      <th></th>\n",
       "      <th>date</th>\n",
       "      <th>home_team</th>\n",
       "      <th>away_team</th>\n",
       "      <th>home_score</th>\n",
       "      <th>away_score</th>\n",
       "      <th>tournament</th>\n",
       "    </tr>\n",
       "  </thead>\n",
       "  <tbody>\n",
       "    <tr>\n",
       "      <th>0</th>\n",
       "      <td>1969-11-01</td>\n",
       "      <td>Italy</td>\n",
       "      <td>France</td>\n",
       "      <td>1</td>\n",
       "      <td>0</td>\n",
       "      <td>Euro</td>\n",
       "    </tr>\n",
       "    <tr>\n",
       "      <th>1</th>\n",
       "      <td>1969-11-01</td>\n",
       "      <td>Denmark</td>\n",
       "      <td>England</td>\n",
       "      <td>4</td>\n",
       "      <td>3</td>\n",
       "      <td>Euro</td>\n",
       "    </tr>\n",
       "    <tr>\n",
       "      <th>2</th>\n",
       "      <td>1969-11-02</td>\n",
       "      <td>England</td>\n",
       "      <td>France</td>\n",
       "      <td>2</td>\n",
       "      <td>0</td>\n",
       "      <td>Euro</td>\n",
       "    </tr>\n",
       "    <tr>\n",
       "      <th>3</th>\n",
       "      <td>1969-11-02</td>\n",
       "      <td>Italy</td>\n",
       "      <td>Denmark</td>\n",
       "      <td>3</td>\n",
       "      <td>1</td>\n",
       "      <td>Euro</td>\n",
       "    </tr>\n",
       "    <tr>\n",
       "      <th>4</th>\n",
       "      <td>1975-08-25</td>\n",
       "      <td>Thailand</td>\n",
       "      <td>Australia</td>\n",
       "      <td>3</td>\n",
       "      <td>2</td>\n",
       "      <td>AFC Championship</td>\n",
       "    </tr>\n",
       "  </tbody>\n",
       "</table>\n",
       "</div>"
      ],
      "text/plain": [
       "         date home_team  away_team  home_score  away_score        tournament\n",
       "0  1969-11-01     Italy     France           1           0              Euro\n",
       "1  1969-11-01   Denmark    England           4           3              Euro\n",
       "2  1969-11-02   England     France           2           0              Euro\n",
       "3  1969-11-02     Italy    Denmark           3           1              Euro\n",
       "4  1975-08-25  Thailand  Australia           3           2  AFC Championship"
      ]
     },
     "execution_count": 4,
     "metadata": {},
     "output_type": "execute_result"
    }
   ],
   "source": [
    "women.head()"
   ]
  },
  {
   "cell_type": "markdown",
   "id": "ee2809d0",
   "metadata": {},
   "source": [
    "# 1. EDA"
   ]
  },
  {
   "cell_type": "markdown",
   "id": "dd2325f5",
   "metadata": {},
   "source": [
    "## Filtering the Data"
   ]
  },
  {
   "cell_type": "code",
   "execution_count": 5,
   "id": "8f51f423",
   "metadata": {},
   "outputs": [
    {
     "data": {
      "text/html": [
       "<div>\n",
       "<style scoped>\n",
       "    .dataframe tbody tr th:only-of-type {\n",
       "        vertical-align: middle;\n",
       "    }\n",
       "\n",
       "    .dataframe tbody tr th {\n",
       "        vertical-align: top;\n",
       "    }\n",
       "\n",
       "    .dataframe thead th {\n",
       "        text-align: right;\n",
       "    }\n",
       "</style>\n",
       "<table border=\"1\" class=\"dataframe\">\n",
       "  <thead>\n",
       "    <tr style=\"text-align: right;\">\n",
       "      <th></th>\n",
       "      <th>date</th>\n",
       "      <th>home_team</th>\n",
       "      <th>away_team</th>\n",
       "      <th>home_score</th>\n",
       "      <th>away_score</th>\n",
       "      <th>tournament</th>\n",
       "    </tr>\n",
       "  </thead>\n",
       "  <tbody>\n",
       "    <tr>\n",
       "      <th>0</th>\n",
       "      <td>2002-05-31</td>\n",
       "      <td>France</td>\n",
       "      <td>Senegal</td>\n",
       "      <td>0</td>\n",
       "      <td>1</td>\n",
       "      <td>FIFA World Cup</td>\n",
       "    </tr>\n",
       "    <tr>\n",
       "      <th>1</th>\n",
       "      <td>2002-06-01</td>\n",
       "      <td>Germany</td>\n",
       "      <td>Saudi Arabia</td>\n",
       "      <td>8</td>\n",
       "      <td>0</td>\n",
       "      <td>FIFA World Cup</td>\n",
       "    </tr>\n",
       "    <tr>\n",
       "      <th>2</th>\n",
       "      <td>2002-06-01</td>\n",
       "      <td>Republic of Ireland</td>\n",
       "      <td>Cameroon</td>\n",
       "      <td>1</td>\n",
       "      <td>1</td>\n",
       "      <td>FIFA World Cup</td>\n",
       "    </tr>\n",
       "    <tr>\n",
       "      <th>3</th>\n",
       "      <td>2002-06-01</td>\n",
       "      <td>Uruguay</td>\n",
       "      <td>Denmark</td>\n",
       "      <td>1</td>\n",
       "      <td>2</td>\n",
       "      <td>FIFA World Cup</td>\n",
       "    </tr>\n",
       "    <tr>\n",
       "      <th>4</th>\n",
       "      <td>2002-06-02</td>\n",
       "      <td>Argentina</td>\n",
       "      <td>Nigeria</td>\n",
       "      <td>1</td>\n",
       "      <td>0</td>\n",
       "      <td>FIFA World Cup</td>\n",
       "    </tr>\n",
       "  </tbody>\n",
       "</table>\n",
       "</div>"
      ],
      "text/plain": [
       "         date            home_team     away_team  home_score  away_score  \\\n",
       "0  2002-05-31               France       Senegal           0           1   \n",
       "1  2002-06-01              Germany  Saudi Arabia           8           0   \n",
       "2  2002-06-01  Republic of Ireland      Cameroon           1           1   \n",
       "3  2002-06-01              Uruguay       Denmark           1           2   \n",
       "4  2002-06-02            Argentina       Nigeria           1           0   \n",
       "\n",
       "       tournament  \n",
       "0  FIFA World Cup  \n",
       "1  FIFA World Cup  \n",
       "2  FIFA World Cup  \n",
       "3  FIFA World Cup  \n",
       "4  FIFA World Cup  "
      ]
     },
     "execution_count": 5,
     "metadata": {},
     "output_type": "execute_result"
    }
   ],
   "source": [
    "# Filtering the men's df \n",
    "men = men[(men['date']>='2002-01-01') & (men['tournament']=='FIFA World Cup')].reset_index(drop=True)\n",
    "men.head()"
   ]
  },
  {
   "cell_type": "code",
   "execution_count": 6,
   "id": "bcaa6331",
   "metadata": {},
   "outputs": [
    {
     "data": {
      "text/html": [
       "<div>\n",
       "<style scoped>\n",
       "    .dataframe tbody tr th:only-of-type {\n",
       "        vertical-align: middle;\n",
       "    }\n",
       "\n",
       "    .dataframe tbody tr th {\n",
       "        vertical-align: top;\n",
       "    }\n",
       "\n",
       "    .dataframe thead th {\n",
       "        text-align: right;\n",
       "    }\n",
       "</style>\n",
       "<table border=\"1\" class=\"dataframe\">\n",
       "  <thead>\n",
       "    <tr style=\"text-align: right;\">\n",
       "      <th></th>\n",
       "      <th>date</th>\n",
       "      <th>home_team</th>\n",
       "      <th>away_team</th>\n",
       "      <th>home_score</th>\n",
       "      <th>away_score</th>\n",
       "      <th>tournament</th>\n",
       "    </tr>\n",
       "  </thead>\n",
       "  <tbody>\n",
       "    <tr>\n",
       "      <th>195</th>\n",
       "      <td>2019-06-29</td>\n",
       "      <td>Germany</td>\n",
       "      <td>Sweden</td>\n",
       "      <td>1</td>\n",
       "      <td>2</td>\n",
       "      <td>FIFA World Cup</td>\n",
       "    </tr>\n",
       "    <tr>\n",
       "      <th>196</th>\n",
       "      <td>2019-07-02</td>\n",
       "      <td>England</td>\n",
       "      <td>United States</td>\n",
       "      <td>1</td>\n",
       "      <td>2</td>\n",
       "      <td>FIFA World Cup</td>\n",
       "    </tr>\n",
       "    <tr>\n",
       "      <th>197</th>\n",
       "      <td>2019-07-03</td>\n",
       "      <td>Netherlands</td>\n",
       "      <td>Sweden</td>\n",
       "      <td>1</td>\n",
       "      <td>0</td>\n",
       "      <td>FIFA World Cup</td>\n",
       "    </tr>\n",
       "    <tr>\n",
       "      <th>198</th>\n",
       "      <td>2019-07-06</td>\n",
       "      <td>England</td>\n",
       "      <td>Sweden</td>\n",
       "      <td>1</td>\n",
       "      <td>2</td>\n",
       "      <td>FIFA World Cup</td>\n",
       "    </tr>\n",
       "    <tr>\n",
       "      <th>199</th>\n",
       "      <td>2019-07-07</td>\n",
       "      <td>United States</td>\n",
       "      <td>Netherlands</td>\n",
       "      <td>2</td>\n",
       "      <td>0</td>\n",
       "      <td>FIFA World Cup</td>\n",
       "    </tr>\n",
       "  </tbody>\n",
       "</table>\n",
       "</div>"
      ],
      "text/plain": [
       "           date      home_team      away_team  home_score  away_score  \\\n",
       "195  2019-06-29        Germany         Sweden           1           2   \n",
       "196  2019-07-02        England  United States           1           2   \n",
       "197  2019-07-03    Netherlands         Sweden           1           0   \n",
       "198  2019-07-06        England         Sweden           1           2   \n",
       "199  2019-07-07  United States    Netherlands           2           0   \n",
       "\n",
       "         tournament  \n",
       "195  FIFA World Cup  \n",
       "196  FIFA World Cup  \n",
       "197  FIFA World Cup  \n",
       "198  FIFA World Cup  \n",
       "199  FIFA World Cup  "
      ]
     },
     "execution_count": 6,
     "metadata": {},
     "output_type": "execute_result"
    }
   ],
   "source": [
    "# Filtering the women's df \n",
    "women = women[(women['date']>='2002-01-01') & (women['tournament']=='FIFA World Cup')].reset_index(drop=True)\n",
    "women.tail()"
   ]
  },
  {
   "cell_type": "markdown",
   "id": "6404366e",
   "metadata": {},
   "source": [
    "## Some Exploration"
   ]
  },
  {
   "cell_type": "code",
   "execution_count": 7,
   "id": "9a685f22",
   "metadata": {},
   "outputs": [
    {
     "data": {
      "text/plain": [
       "Index(['date', 'home_team', 'away_team', 'home_score', 'away_score',\n",
       "       'tournament'],\n",
       "      dtype='object')"
      ]
     },
     "execution_count": 7,
     "metadata": {},
     "output_type": "execute_result"
    }
   ],
   "source": [
    "# Column names\n",
    "men.columns"
   ]
  },
  {
   "cell_type": "code",
   "execution_count": 8,
   "id": "bf67de37",
   "metadata": {},
   "outputs": [
    {
     "data": {
      "text/plain": [
       "Index(['date', 'home_team', 'away_team', 'home_score', 'away_score',\n",
       "       'tournament'],\n",
       "      dtype='object')"
      ]
     },
     "execution_count": 8,
     "metadata": {},
     "output_type": "execute_result"
    }
   ],
   "source": [
    "# Column names\n",
    "women.columns"
   ]
  },
  {
   "cell_type": "code",
   "execution_count": 9,
   "id": "563d8d68",
   "metadata": {},
   "outputs": [
    {
     "data": {
      "text/plain": [
       "0"
      ]
     },
     "execution_count": 9,
     "metadata": {},
     "output_type": "execute_result"
    }
   ],
   "source": [
    "# Duplicates - men?\n",
    "men.duplicated().any().sum()"
   ]
  },
  {
   "cell_type": "code",
   "execution_count": 10,
   "id": "3572f02c",
   "metadata": {},
   "outputs": [
    {
     "data": {
      "text/plain": [
       "0"
      ]
     },
     "execution_count": 10,
     "metadata": {},
     "output_type": "execute_result"
    }
   ],
   "source": [
    "# Duplicates - women?\n",
    "women.duplicated().any().sum()"
   ]
  },
  {
   "cell_type": "code",
   "execution_count": 11,
   "id": "3f02f7c9",
   "metadata": {},
   "outputs": [
    {
     "data": {
      "text/plain": [
       "date          object\n",
       "home_team     object\n",
       "away_team     object\n",
       "home_score     int64\n",
       "away_score     int64\n",
       "tournament    object\n",
       "dtype: object"
      ]
     },
     "execution_count": 11,
     "metadata": {},
     "output_type": "execute_result"
    }
   ],
   "source": [
    "# Data types\n",
    "men.dtypes"
   ]
  },
  {
   "cell_type": "code",
   "execution_count": 12,
   "id": "f68b8068",
   "metadata": {},
   "outputs": [
    {
     "data": {
      "text/plain": [
       "date          object\n",
       "home_team     object\n",
       "away_team     object\n",
       "home_score     int64\n",
       "away_score     int64\n",
       "tournament    object\n",
       "dtype: object"
      ]
     },
     "execution_count": 12,
     "metadata": {},
     "output_type": "execute_result"
    }
   ],
   "source": [
    "# Data types\n",
    "women.dtypes"
   ]
  },
  {
   "cell_type": "code",
   "execution_count": 13,
   "id": "e8707a1f",
   "metadata": {},
   "outputs": [],
   "source": [
    "# Converting 'date' to datetime format\n",
    "men['date'] = pd.to_datetime(men['date'])\n",
    "women['date'] = pd.to_datetime(women['date'])"
   ]
  },
  {
   "cell_type": "code",
   "execution_count": 14,
   "id": "8468831f",
   "metadata": {},
   "outputs": [
    {
     "data": {
      "image/png": "[encoded data removed]",
      "text/plain": [
       "<Figure size 720x432 with 1 Axes>"
      ]
     },
     "metadata": {
      "needs_background": "light"
     },
     "output_type": "display_data"
    }
   ],
   "source": [
    "# Check the df for outliers in goals - men\n",
    "sns.scatterplot(data=men, x='home_score', y='away_score')\n",
    "plt.show()"
   ]
  },
  {
   "cell_type": "code",
   "execution_count": 15,
   "id": "6ab296f5",
   "metadata": {},
   "outputs": [
    {
     "data": {
      "image/png": "[encoded data removed]",
      "text/plain": [
       "<Figure size 720x432 with 1 Axes>"
      ]
     },
     "metadata": {
      "needs_background": "light"
     },
     "output_type": "display_data"
    }
   ],
   "source": [
    "# Check the df for outliers in goals - women\n",
    "sns.scatterplot(data=women, x='home_score', y='away_score')\n",
    "plt.show()"
   ]
  },
  {
   "cell_type": "code",
   "execution_count": 16,
   "id": "874e5f4f",
   "metadata": {},
   "outputs": [
    {
     "data": {
      "text/plain": [
       "count                    384\n",
       "mean     2012-07-16 16:52:30\n",
       "min      2002-05-31 00:00:00\n",
       "25%      2006-06-19 18:00:00\n",
       "50%      2012-06-26 00:00:00\n",
       "75%      2018-06-24 06:00:00\n",
       "max      2022-12-18 00:00:00\n",
       "Name: date, dtype: object"
      ]
     },
     "execution_count": 16,
     "metadata": {},
     "output_type": "execute_result"
    }
   ],
   "source": [
    "# Time outliers - men?\n",
    "men['date'].describe(datetime_is_numeric=True)"
   ]
  },
  {
   "cell_type": "code",
   "execution_count": 17,
   "id": "8580c046",
   "metadata": {},
   "outputs": [
    {
     "data": {
      "text/plain": [
       "count                    200\n",
       "mean     2012-10-01 04:04:48\n",
       "min      2003-09-20 00:00:00\n",
       "25%      2007-09-17 18:00:00\n",
       "50%      2015-06-07 12:00:00\n",
       "75%      2019-06-08 00:00:00\n",
       "max      2019-07-07 00:00:00\n",
       "Name: date, dtype: object"
      ]
     },
     "execution_count": 17,
     "metadata": {},
     "output_type": "execute_result"
    }
   ],
   "source": [
    "# Time outliers - women?\n",
    "women['date'].describe(datetime_is_numeric=True)"
   ]
  },
  {
   "cell_type": "markdown",
   "id": "2c05b42f",
   "metadata": {},
   "source": [
    "There are no duplicates, outliers or other mistakes in the given data. \n",
    "\n",
    "But the amount of observations in the men's dataset is more than in women's: 384 vs 200. We'll take that on notice."
   ]
  },
  {
   "cell_type": "markdown",
   "id": "4879bc71",
   "metadata": {},
   "source": [
    "# 2. Choosing the Correct Hypothesis Test"
   ]
  },
  {
   "cell_type": "markdown",
   "id": "a1072821",
   "metadata": {},
   "source": [
    "Since our hypotheses are:\n",
    "* $H_0$ : The mean number of goals scored in women's international soccer matches is the same as men's and \n",
    "* $H_A$ : The mean number of goals scored in women's international soccer matches is greater than men's, \n",
    "\n",
    "and our samples are *independent* and the *sample sizes are large* enough, I'll most likely use the independent samples t-test (also known as Welch's t-test), considering the different sample sizes (384 vs 200).\n",
    "\n",
    "But first, we need to check some specific conditions:\n",
    "1. Approximately Normal Distribution.\n",
    "2. Homogenity of Variances."
   ]
  },
  {
   "cell_type": "code",
   "execution_count": 18,
   "id": "f4918d20",
   "metadata": {},
   "outputs": [],
   "source": [
    "# Calulating total goals\n",
    "men['total_goals'] = men['home_score'] + men['away_score']\n",
    "women['total_goals'] = women['home_score'] + women['away_score']\n",
    "\n",
    "# Calculate the mean total goals for men and women\n",
    "mean_goals_men = men['total_goals'].mean()\n",
    "mean_goals_women = women['total_goals'].mean()"
   ]
  },
  {
   "cell_type": "markdown",
   "id": "4cac6863",
   "metadata": {},
   "source": [
    "## Check for Normality"
   ]
  },
  {
   "cell_type": "code",
   "execution_count": 19,
   "id": "12d1d17e",
   "metadata": {},
   "outputs": [
    {
     "data": {
      "image/png": "[encoded data removed]",
      "text/plain": [
       "<Figure size 864x432 with 2 Axes>"
      ]
     },
     "metadata": {
      "needs_background": "light"
     },
     "output_type": "display_data"
    }
   ],
   "source": [
    "# Create subplots\n",
    "fig, (ax1, ax2) = plt.subplots(1, 2, figsize=(12, 6))\n",
    "\n",
    "# Plot the distribution of total goals for men\n",
    "sns.histplot(data=men, x='total_goals', ax=ax1, bins=9)\n",
    "\n",
    "ax1.axvline(mean_goals_men, color='red', linestyle='--', label=f'Mean: {mean_goals_men:.2f}')\n",
    "ax1.annotate(f'Mean: {mean_goals_men:.2f}', xy=(0.52, 0.97), xycoords='axes fraction', ha='right', va='top', color='red')\n",
    "ax1.set_title('Distribution of Total Goals (Men)')\n",
    "\n",
    "# Plot the distribution of total goals for women\n",
    "sns.histplot(data=women, x='total_goals', ax=ax2, bins=13)\n",
    "\n",
    "ax2.axvline(mean_goals_women, color='red', linestyle='--', label=f'Mean: {mean_goals_women:.2f}')\n",
    "ax2.annotate(f'Mean: {mean_goals_women:.2f}', xy=(0.49, 0.95), xycoords='axes fraction', ha='right', va='top', color='red')\n",
    "ax2.set_title('Distribution of Total Goals (Women)')\n",
    "\n",
    "# Adjust layout and display the plots\n",
    "plt.tight_layout()\n",
    "plt.show()"
   ]
  },
  {
   "cell_type": "markdown",
   "id": "27f45846",
   "metadata": {},
   "source": [
    "The distribution of total goals doesn't seem normal for both men's and women's data - it's more right-skewed, which makes sense, since huge scores occur less frequently. Therefore, we can't use the t-test, and my choice of a statistical test is the **Mann-Whitney U test**.\n",
    "\n",
    "However, I will check the data for normality with the Kolmogorov-Smirnov and the Shapiro-Wilk tests."
   ]
  },
  {
   "cell_type": "code",
   "execution_count": 20,
   "id": "d78e6934",
   "metadata": {},
   "outputs": [
    {
     "name": "stdout",
     "output_type": "stream",
     "text": [
      "Reject the null hypothesis. The data is not normally distributed.\n",
      "Reject the null hypothesis. The data is not normally distributed.\n"
     ]
    }
   ],
   "source": [
    "# Level of significance\n",
    "alpha = 0.05\n",
    "\n",
    "# Shapiro-Wilk test for men\n",
    "statistic, p_value = shapiro(men['total_goals'])\n",
    "\n",
    "if p_value < alpha:\n",
    "    print(\"Reject the null hypothesis. The data is not normally distributed.\")\n",
    "else:\n",
    "    print(\"Fail to reject the null hypothesis. The data is normally distributed.\")\n",
    "\n",
    "# Shapiro-Wilk test for women\n",
    "statistic, p_value = shapiro(women['total_goals'])\n",
    "\n",
    "alpha = 0.05\n",
    "if p_value < alpha:\n",
    "    print(\"Reject the null hypothesis. The data is not normally distributed.\")\n",
    "else:\n",
    "    print(\"Fail to reject the null hypothesis. The data is normally distributed.\")"
   ]
  },
  {
   "cell_type": "code",
   "execution_count": 21,
   "id": "47468d7d",
   "metadata": {},
   "outputs": [
    {
     "name": "stdout",
     "output_type": "stream",
     "text": [
      "Reject the null hypothesis. The data is not normally distributed.\n",
      "Reject the null hypothesis. The data is not normally distributed.\n"
     ]
    }
   ],
   "source": [
    "# Kolmogorov-Smirnov test for men\n",
    "statistic, p_value = kstest(men['total_goals'], norm.cdf)\n",
    "\n",
    "if p_value < alpha:\n",
    "    print(\"Reject the null hypothesis. The data is not normally distributed.\")\n",
    "else:\n",
    "    print(\"Fail to reject the null hypothesis. The data is normally distributed.\")\n",
    "\n",
    "# Kolmogorov-Smirnov test for women\n",
    "statistic, p_value = kstest(women['total_goals'], norm.cdf)\n",
    "\n",
    "alpha = 0.05\n",
    "if p_value < alpha:\n",
    "    print(\"Reject the null hypothesis. The data is not normally distributed.\")\n",
    "else:\n",
    "    print(\"Fail to reject the null hypothesis. The data is normally distributed.\")"
   ]
  },
  {
   "cell_type": "markdown",
   "id": "cf27870d",
   "metadata": {},
   "source": [
    "Let's do one more check for normality of our data - the Q-Q plot."
   ]
  },
  {
   "cell_type": "code",
   "execution_count": 22,
   "id": "754408e5",
   "metadata": {},
   "outputs": [
    {
     "data": {
      "image/png": "[encoded data removed]",
      "text/plain": [
       "<Figure size 720x432 with 1 Axes>"
      ]
     },
     "metadata": {
      "needs_background": "light"
     },
     "output_type": "display_data"
    }
   ],
   "source": [
    "# Q-Q plot for men's total goals\n",
    "sm.qqplot(men['total_goals'], line='s', marker='o', markerfacecolor='b')\n",
    "plt.title(\"Q-Q Plot for Men's Total Goals\")\n",
    "plt.xlabel('Theoretical Quantiles')\n",
    "plt.ylabel('Sample Quantiles')\n",
    "plt.show()"
   ]
  },
  {
   "cell_type": "code",
   "execution_count": 23,
   "id": "a4a91a26",
   "metadata": {},
   "outputs": [
    {
     "data": {
      "image/png": "[encoded data removed]",
      "text/plain": [
       "<Figure size 720x432 with 1 Axes>"
      ]
     },
     "metadata": {
      "needs_background": "light"
     },
     "output_type": "display_data"
    }
   ],
   "source": [
    "# Q-Q plot for women's total goals\n",
    "sm.qqplot(women['total_goals'], line='s', marker='o', markerfacecolor='r')\n",
    "plt.title(\"Q-Q Plot for Women's Total Goals\")\n",
    "plt.xlabel('Theoretical Quantiles')\n",
    "plt.ylabel('Sample Quantiles')\n",
    "plt.show()"
   ]
  },
  {
   "cell_type": "markdown",
   "id": "88ffb0a9",
   "metadata": {},
   "source": [
    "## Check for Homogenity of Variances"
   ]
  },
  {
   "cell_type": "markdown",
   "id": "1fab731f",
   "metadata": {},
   "source": [
    "Also, i would like to check the homogenity of variances of my data. I will use Levene's test."
   ]
  },
  {
   "cell_type": "code",
   "execution_count": 57,
   "id": "e2ebba90",
   "metadata": {},
   "outputs": [
    {
     "name": "stdout",
     "output_type": "stream",
     "text": [
      "Fail to reject the null hypothesis. The variances are not significantly different.\n"
     ]
    }
   ],
   "source": [
    "# Perform Levene's test\n",
    "statistic, p_value = levene(men['total_goals'], women['total_goals'])\n",
    "\n",
    "# Check the p-value to determine if variances are significantly different\n",
    "alpha = 0.05\n",
    "if p_value < alpha:\n",
    "    print(\"Reject the null hypothesis. The variances are significantly different.\")\n",
    "else:\n",
    "    print(\"Fail to reject the null hypothesis. The variances are not significantly different.\")"
   ]
  },
  {
   "cell_type": "markdown",
   "id": "819c878c",
   "metadata": {},
   "source": [
    "Though the variances in our samples are not significantly different, the distribution of total goals in both datasets is far away from normality. \n",
    "\n",
    "That is, we should use the non-parametric **Mann-Whitney U test**. This test does not assume a specific distribution for the data, making it robust to violations of normality."
   ]
  },
  {
   "cell_type": "markdown",
   "id": "7410d7b8",
   "metadata": {},
   "source": [
    "# 3. Performing the Hypothesis Test"
   ]
  },
  {
   "cell_type": "code",
   "execution_count": 58,
   "id": "4c642b22",
   "metadata": {},
   "outputs": [
    {
     "name": "stdout",
     "output_type": "stream",
     "text": [
      "p_value: 0.005106609825443641\n",
      "\n",
      "Reject the null hypothesis. There is a significant difference between the groups.\n"
     ]
    }
   ],
   "source": [
    "# Perform Mann-Whitney U test\n",
    "statistic, p_value = mannwhitneyu(women['total_goals'], men['total_goals'], alternative='greater')\n",
    "\n",
    "# Setting alpha in accordance with the predefined condition\n",
    "alpha = 0.10\n",
    "\n",
    "# Check the p-value to determine if there is a significant difference between the groups\n",
    "print(\"p_value:\", p_value)\n",
    "print()\n",
    "if p_value < alpha:\n",
    "    print(\"Reject the null hypothesis. There is a significant difference between the groups.\")\n",
    "else:\n",
    "    print(\"Fail to reject the null hypothesis. There is no significant difference between the groups.\")"
   ]
  },
  {
   "cell_type": "markdown",
   "id": "1a8e46a7",
   "metadata": {},
   "source": [
    "# 4. Conclusions"
   ]
  },
  {
   "cell_type": "markdown",
   "id": "d93a96ab",
   "metadata": {},
   "source": [
    "The test result shows that there is a **significant difference** between total goals in women's and men's soccer.\n",
    "\n",
    "Therefore, we can conclude that more goals scored in women's international soccer matches than men's on FIFA World Cup matches in the 21st century."
   ]
  }
 ],
 "metadata": {
  "kernelspec": {
   "display_name": "Python 3 (ipykernel)",
   "language": "python",
   "name": "python3"
  },
  "language_info": {
   "codemirror_mode": {
    "name": "ipython",
    "version": 3
   },
   "file_extension": ".py",
   "mimetype": "text/x-python",
   "name": "python",
   "nbconvert_exporter": "python",
   "pygments_lexer": "ipython3",
   "version": "3.9.12"
  },
  "toc": {
   "base_numbering": 1,
   "nav_menu": {},
   "number_sections": false,
   "sideBar": true,
   "skip_h1_title": false,
   "title_cell": "Table of Contents",
   "title_sidebar": "Contents",
   "toc_cell": true,
   "toc_position": {},
   "toc_section_display": true,
   "toc_window_display": false
  }
 },
 "nbformat": 4,
 "nbformat_minor": 5
}
